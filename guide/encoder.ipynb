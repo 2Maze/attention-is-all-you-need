{
 "cells": [
  {
   "attachments": {},
   "cell_type": "markdown",
   "id": "7acd0279-a9b8-4f3e-b681-644826c6ccd1",
   "metadata": {},
   "source": [
    "![encoder](images/encoder.png)"
   ]
  },
  {
   "cell_type": "code",
   "execution_count": 1,
   "id": "20594e8a-339b-4c89-b659-caffd66083ea",
   "metadata": {},
   "outputs": [],
   "source": [
    "import torch\n",
    "\n",
    "from model.encoder import Encoder\n",
    "from torchsummaryX import summary"
   ]
  },
  {
   "cell_type": "code",
   "execution_count": 2,
   "id": "c4f9b676-03cf-4bb5-838a-c002b87940aa",
   "metadata": {},
   "outputs": [],
   "source": [
    "enc = Encoder(src_vocab_size=100,\n",
    "              dim_model=128,\n",
    "              num_layers=4,\n",
    "              num_heads=4,\n",
    "              dim_ff=2048,\n",
    "              dropout=0.1,\n",
    "              max_seq_len=60,\n",
    "              padding_idx=0)"
   ]
  },
  {
   "cell_type": "code",
   "execution_count": 3,
   "id": "c91df9a8-d8ef-4ef3-8d2d-87fc053cdbda",
   "metadata": {},
   "outputs": [
    {
     "name": "stdout",
     "output_type": "stream",
     "text": [
      "----------------------------------------------------------------------------------------------------\n",
      "Layer                   Kernel Shape         Output Shape         # Params (K)      # Mult-Adds (M)\n",
      "====================================================================================================\n",
      "0_Embedding               [128, 100]         [1, 60, 128]                12.80                 0.01\n",
      "1_Dropout                          -         [1, 60, 128]                    -                    -\n",
      "2_Linear                  [128, 128]         [1, 60, 128]                16.38                 0.02\n",
      "3_Linear                  [128, 128]         [1, 60, 128]                16.38                 0.02\n",
      "4_Linear                  [128, 128]         [1, 60, 128]                16.38                 0.02\n",
      "5_Dropout                          -       [1, 4, 60, 60]                    -                    -\n",
      "6_Linear                  [128, 128]         [1, 60, 128]                16.51                 0.02\n",
      "7_Dropout                          -         [1, 60, 128]                    -                    -\n",
      "8_LayerNorm                    [128]         [1, 60, 128]                 0.26                 0.00\n",
      "9_Linear                 [128, 2048]        [1, 60, 2048]               264.19                 0.26\n",
      "10_Linear                [2048, 128]         [1, 60, 128]               262.27                 0.26\n",
      "11_Dropout                         -         [1, 60, 128]                    -                    -\n",
      "12_Dropout                         -         [1, 60, 128]                    -                    -\n",
      "13_LayerNorm                   [128]         [1, 60, 128]                 0.26                 0.00\n",
      "14_Linear                 [128, 128]         [1, 60, 128]                16.38                 0.02\n",
      "15_Linear                 [128, 128]         [1, 60, 128]                16.38                 0.02\n",
      "16_Linear                 [128, 128]         [1, 60, 128]                16.38                 0.02\n",
      "17_Dropout                         -       [1, 4, 60, 60]                    -                    -\n",
      "18_Linear                 [128, 128]         [1, 60, 128]                16.51                 0.02\n",
      "19_Dropout                         -         [1, 60, 128]                    -                    -\n",
      "20_LayerNorm                   [128]         [1, 60, 128]                 0.26                 0.00\n",
      "21_Linear                [128, 2048]        [1, 60, 2048]               264.19                 0.26\n",
      "22_Linear                [2048, 128]         [1, 60, 128]               262.27                 0.26\n",
      "23_Dropout                         -         [1, 60, 128]                    -                    -\n",
      "24_Dropout                         -         [1, 60, 128]                    -                    -\n",
      "25_LayerNorm                   [128]         [1, 60, 128]                 0.26                 0.00\n",
      "26_Linear                 [128, 128]         [1, 60, 128]                16.38                 0.02\n",
      "27_Linear                 [128, 128]         [1, 60, 128]                16.38                 0.02\n",
      "28_Linear                 [128, 128]         [1, 60, 128]                16.38                 0.02\n",
      "29_Dropout                         -       [1, 4, 60, 60]                    -                    -\n",
      "30_Linear                 [128, 128]         [1, 60, 128]                16.51                 0.02\n",
      "31_Dropout                         -         [1, 60, 128]                    -                    -\n",
      "32_LayerNorm                   [128]         [1, 60, 128]                 0.26                 0.00\n",
      "33_Linear                [128, 2048]        [1, 60, 2048]               264.19                 0.26\n",
      "34_Linear                [2048, 128]         [1, 60, 128]               262.27                 0.26\n",
      "35_Dropout                         -         [1, 60, 128]                    -                    -\n",
      "36_Dropout                         -         [1, 60, 128]                    -                    -\n",
      "37_LayerNorm                   [128]         [1, 60, 128]                 0.26                 0.00\n",
      "38_Linear                 [128, 128]         [1, 60, 128]                16.38                 0.02\n",
      "39_Linear                 [128, 128]         [1, 60, 128]                16.38                 0.02\n",
      "40_Linear                 [128, 128]         [1, 60, 128]                16.38                 0.02\n",
      "41_Dropout                         -       [1, 4, 60, 60]                    -                    -\n",
      "42_Linear                 [128, 128]         [1, 60, 128]                16.51                 0.02\n",
      "43_Dropout                         -         [1, 60, 128]                    -                    -\n",
      "44_LayerNorm                   [128]         [1, 60, 128]                 0.26                 0.00\n",
      "45_Linear                [128, 2048]        [1, 60, 2048]               264.19                 0.26\n",
      "46_Linear                [2048, 128]         [1, 60, 128]               262.27                 0.26\n",
      "47_Dropout                         -         [1, 60, 128]                    -                    -\n",
      "48_Dropout                         -         [1, 60, 128]                    -                    -\n",
      "49_LayerNorm                   [128]         [1, 60, 128]                 0.26                 0.00\n",
      "====================================================================================================\n",
      "# Params:    2,383.36K\n",
      "# Mult-Adds: 2.37M\n",
      "----------------------------------------------------------------------------------------------------\n"
     ]
    }
   ],
   "source": [
    "enc_input = torch.randint(1, 100, (1, 60))\n",
    "\n",
    "summary(enc, enc_input)"
   ]
  },
  {
   "cell_type": "code",
   "execution_count": 5,
   "id": "6273be43-2b3d-4720-aee0-ec0959dcf2a8",
   "metadata": {},
   "outputs": [
    {
     "data": {
      "text/plain": [
       "tensor([[[ 0.2881,  0.9078, -0.4859,  ...,  0.5312,  0.9792, -0.0064],\n",
       "         [ 0.5960,  2.1989,  0.0240,  ...,  0.3918,  0.4277,  0.9538],\n",
       "         [ 0.4446,  2.2136,  0.4422,  ...,  0.6517,  0.4348,  0.5865],\n",
       "         ...,\n",
       "         [-0.1956,  1.0978,  0.6704,  ..., -0.4752,  0.4803, -0.5719],\n",
       "         [ 0.1422,  1.1283, -0.2705,  ...,  0.1350,  0.8121, -1.0574],\n",
       "         [ 1.2986,  0.0490,  0.8441,  ..., -0.3969, -0.5358, -0.8989]]],\n",
       "       grad_fn=<NativeLayerNormBackward0>)"
      ]
     },
     "execution_count": 5,
     "metadata": {},
     "output_type": "execute_result"
    }
   ],
   "source": [
    "enc(enc_input)"
   ]
  },
  {
   "cell_type": "code",
   "execution_count": null,
   "id": "19cd6e74-81d1-41e9-9728-a57957a2aa42",
   "metadata": {},
   "outputs": [],
   "source": []
  }
 ],
 "metadata": {
  "kernelspec": {
   "display_name": "Python 3 (ipykernel)",
   "language": "python",
   "name": "python3"
  },
  "language_info": {
   "codemirror_mode": {
    "name": "ipython",
    "version": 3
   },
   "file_extension": ".py",
   "mimetype": "text/x-python",
   "name": "python",
   "nbconvert_exporter": "python",
   "pygments_lexer": "ipython3",
   "version": "3.9.17"
  }
 },
 "nbformat": 4,
 "nbformat_minor": 5
}
