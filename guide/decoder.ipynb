{
 "cells": [
  {
   "cell_type": "markdown",
   "id": "b77c9cdf-2585-4586-8507-7b04a7f85a54",
   "metadata": {},
   "source": [
    "![decoder](images/decoder.png)"
   ]
  },
  {
   "cell_type": "code",
   "execution_count": 1,
   "id": "7144253c-78ed-42c3-b0d4-fb0527716208",
   "metadata": {},
   "outputs": [],
   "source": [
    "import torch\n",
    "import torch.nn.functional as F\n",
    "import numpy as np\n",
    "import random\n",
    "\n",
    "from model.decoder import Decoder\n",
    "from torchsummaryX import summary\n",
    "from torch import Tensor\n",
    "\n",
    "\n",
    "def get_padding_mask(x: Tensor, pad_idx: int = 0) -> Tensor:\n",
    "    \"\"\" x: (batch_size, seq_len)\n",
    "    \"\"\"\n",
    "    x = (x != pad_idx).unsqueeze(-2)  # (batch_size, 1, seq_len)\n",
    "    return x\n",
    "\n",
    "def get_subsequent_mask(x: Tensor) -> Tensor:\n",
    "    \"\"\" x: (batch_size, seq_len)\n",
    "    \"\"\"\n",
    "    seq_len = x.size(1)\n",
    "    subsequent_mask = np.triu(np.ones((1, seq_len, seq_len)), k=1).astype(np.int8)  # (batch_size, seq_len, seq_len)\n",
    "    subsequent_mask = (torch.from_numpy(subsequent_mask) == 0).to(x.device)  # (batch_size, seq_len, seq_len)\n",
    "    return subsequent_mask"
   ]
  },
  {
   "cell_type": "code",
   "execution_count": 2,
   "id": "ed874b87-dbee-4d8f-82ce-c42b3b4e901f",
   "metadata": {},
   "outputs": [],
   "source": [
    "SRC_VOCAB_SIZE = 100\n",
    "TRG_VOCAB_SIZE = 100\n",
    "DIM_MODEL = 128\n",
    "NUM_LAYERS = 4\n",
    "NUM_HEADS = 4\n",
    "DIM_FF = 2048\n",
    "DROPOUT = 0.1\n",
    "MAX_SEQ_LEN = 60\n",
    "PADDING_IDX = 0\n",
    "\n",
    "dec = Decoder(trg_vocab_size=TRG_VOCAB_SIZE,\n",
    "              dim_model=DIM_MODEL,\n",
    "              num_layers=NUM_LAYERS,\n",
    "              num_heads=NUM_HEADS,\n",
    "              dim_ff=DIM_FF,\n",
    "              dropout=DROPOUT,\n",
    "              max_seq_len=MAX_SEQ_LEN,\n",
    "              padding_idx=PADDING_IDX)"
   ]
  },
  {
   "cell_type": "code",
   "execution_count": 3,
   "id": "b806e39a-8393-41f8-a565-da14074b04bd",
   "metadata": {},
   "outputs": [],
   "source": [
    "len_src, len_trg = random.randint(10, MAX_SEQ_LEN - 10), random.randint(10, MAX_SEQ_LEN - 10)\n",
    "\n",
    "src, trg = torch.randint(4, SRC_VOCAB_SIZE, (1, len_src)), torch.randint(4, TRG_VOCAB_SIZE, (1, len_trg))\n",
    "src, trg = F.pad(src, (0, MAX_SEQ_LEN - src.size(1)), 'constant', 0), F.pad(trg, (0, MAX_SEQ_LEN - trg.size(1)), 'constant', 0)\n",
    "\n",
    "src_mask = get_padding_mask(src)\n",
    "trg_mask = get_padding_mask(trg) & get_subsequent_mask(trg)"
   ]
  },
  {
   "cell_type": "code",
   "execution_count": 4,
   "id": "84d66121-36a2-4ff8-9937-34b2e8441c21",
   "metadata": {},
   "outputs": [
    {
     "data": {
      "text/plain": [
       "(tensor([[[ True,  True,  True,  True,  True,  True,  True,  True,  True,  True,\n",
       "            True,  True,  True,  True,  True,  True,  True,  True,  True,  True,\n",
       "            True,  True,  True,  True,  True,  True,  True,  True,  True,  True,\n",
       "            True,  True,  True,  True,  True,  True,  True,  True,  True,  True,\n",
       "            True,  True, False, False, False, False, False, False, False, False,\n",
       "           False, False, False, False, False, False, False, False, False, False]]]),\n",
       " tensor([[[ True, False, False,  ..., False, False, False],\n",
       "          [ True,  True, False,  ..., False, False, False],\n",
       "          [ True,  True,  True,  ..., False, False, False],\n",
       "          ...,\n",
       "          [ True,  True,  True,  ..., False, False, False],\n",
       "          [ True,  True,  True,  ..., False, False, False],\n",
       "          [ True,  True,  True,  ..., False, False, False]]]))"
      ]
     },
     "execution_count": 4,
     "metadata": {},
     "output_type": "execute_result"
    }
   ],
   "source": [
    "src_mask, trg_mask"
   ]
  },
  {
   "cell_type": "code",
   "execution_count": 7,
   "id": "0e6e55bf-66f7-4d5f-af9b-82987bca7e78",
   "metadata": {},
   "outputs": [
    {
     "name": "stdout",
     "output_type": "stream",
     "text": [
      "----------------------------------------------------------------------------------------------------\n",
      "Layer                   Kernel Shape         Output Shape         # Params (K)      # Mult-Adds (M)\n",
      "====================================================================================================\n",
      "0_Embedding               [128, 100]         [1, 60, 128]                12.80                 0.01\n",
      "1_Dropout                          -         [1, 60, 128]                    -                    -\n",
      "2_Linear                  [128, 128]         [1, 60, 128]                16.38                 0.02\n",
      "3_Linear                  [128, 128]         [1, 60, 128]                16.38                 0.02\n",
      "4_Linear                  [128, 128]         [1, 60, 128]                16.38                 0.02\n",
      "5_Dropout                          -       [1, 4, 60, 60]                    -                    -\n",
      "6_Linear                  [128, 128]         [1, 60, 128]                16.51                 0.02\n",
      "7_Dropout                          -         [1, 60, 128]                    -                    -\n",
      "8_LayerNorm                    [128]         [1, 60, 128]                 0.26                 0.00\n",
      "9_Linear                  [128, 128]         [1, 60, 128]                16.38                 0.02\n",
      "10_Linear                 [128, 128]         [1, 60, 128]                16.38                 0.02\n",
      "11_Linear                 [128, 128]         [1, 60, 128]                16.38                 0.02\n",
      "12_Dropout                         -       [1, 4, 60, 60]                    -                    -\n",
      "13_Linear                 [128, 128]         [1, 60, 128]                16.51                 0.02\n",
      "14_Dropout                         -         [1, 60, 128]                    -                    -\n",
      "15_LayerNorm                   [128]         [1, 60, 128]          (recursive)                 0.00\n",
      "16_Linear                [128, 2048]        [1, 60, 2048]               264.19                 0.26\n",
      "17_Linear                [2048, 128]         [1, 60, 128]               262.27                 0.26\n",
      "18_Dropout                         -         [1, 60, 128]                    -                    -\n",
      "19_Dropout                         -         [1, 60, 128]                    -                    -\n",
      "20_LayerNorm                   [128]         [1, 60, 128]                 0.26                 0.00\n",
      "21_Linear                 [128, 128]         [1, 60, 128]                16.38                 0.02\n",
      "22_Linear                 [128, 128]         [1, 60, 128]                16.38                 0.02\n",
      "23_Linear                 [128, 128]         [1, 60, 128]                16.38                 0.02\n",
      "24_Dropout                         -       [1, 4, 60, 60]                    -                    -\n",
      "25_Linear                 [128, 128]         [1, 60, 128]                16.51                 0.02\n",
      "26_Dropout                         -         [1, 60, 128]                    -                    -\n",
      "27_LayerNorm                   [128]         [1, 60, 128]                 0.26                 0.00\n",
      "28_Linear                 [128, 128]         [1, 60, 128]                16.38                 0.02\n",
      "29_Linear                 [128, 128]         [1, 60, 128]                16.38                 0.02\n",
      "30_Linear                 [128, 128]         [1, 60, 128]                16.38                 0.02\n",
      "31_Dropout                         -       [1, 4, 60, 60]                    -                    -\n",
      "32_Linear                 [128, 128]         [1, 60, 128]                16.51                 0.02\n",
      "33_Dropout                         -         [1, 60, 128]                    -                    -\n",
      "34_LayerNorm                   [128]         [1, 60, 128]          (recursive)                 0.00\n",
      "35_Linear                [128, 2048]        [1, 60, 2048]               264.19                 0.26\n",
      "36_Linear                [2048, 128]         [1, 60, 128]               262.27                 0.26\n",
      "37_Dropout                         -         [1, 60, 128]                    -                    -\n",
      "38_Dropout                         -         [1, 60, 128]                    -                    -\n",
      "39_LayerNorm                   [128]         [1, 60, 128]                 0.26                 0.00\n",
      "40_Linear                 [128, 128]         [1, 60, 128]                16.38                 0.02\n",
      "41_Linear                 [128, 128]         [1, 60, 128]                16.38                 0.02\n",
      "42_Linear                 [128, 128]         [1, 60, 128]                16.38                 0.02\n",
      "43_Dropout                         -       [1, 4, 60, 60]                    -                    -\n",
      "44_Linear                 [128, 128]         [1, 60, 128]                16.51                 0.02\n",
      "45_Dropout                         -         [1, 60, 128]                    -                    -\n",
      "46_LayerNorm                   [128]         [1, 60, 128]                 0.26                 0.00\n",
      "47_Linear                 [128, 128]         [1, 60, 128]                16.38                 0.02\n",
      "48_Linear                 [128, 128]         [1, 60, 128]                16.38                 0.02\n",
      "49_Linear                 [128, 128]         [1, 60, 128]                16.38                 0.02\n",
      "50_Dropout                         -       [1, 4, 60, 60]                    -                    -\n",
      "51_Linear                 [128, 128]         [1, 60, 128]                16.51                 0.02\n",
      "52_Dropout                         -         [1, 60, 128]                    -                    -\n",
      "53_LayerNorm                   [128]         [1, 60, 128]          (recursive)                 0.00\n",
      "54_Linear                [128, 2048]        [1, 60, 2048]               264.19                 0.26\n",
      "55_Linear                [2048, 128]         [1, 60, 128]               262.27                 0.26\n",
      "56_Dropout                         -         [1, 60, 128]                    -                    -\n",
      "57_Dropout                         -         [1, 60, 128]                    -                    -\n",
      "58_LayerNorm                   [128]         [1, 60, 128]                 0.26                 0.00\n",
      "59_Linear                 [128, 128]         [1, 60, 128]                16.38                 0.02\n",
      "60_Linear                 [128, 128]         [1, 60, 128]                16.38                 0.02\n",
      "61_Linear                 [128, 128]         [1, 60, 128]                16.38                 0.02\n",
      "62_Dropout                         -       [1, 4, 60, 60]                    -                    -\n",
      "63_Linear                 [128, 128]         [1, 60, 128]                16.51                 0.02\n",
      "64_Dropout                         -         [1, 60, 128]                    -                    -\n",
      "65_LayerNorm                   [128]         [1, 60, 128]                 0.26                 0.00\n",
      "66_Linear                 [128, 128]         [1, 60, 128]                16.38                 0.02\n",
      "67_Linear                 [128, 128]         [1, 60, 128]                16.38                 0.02\n",
      "68_Linear                 [128, 128]         [1, 60, 128]                16.38                 0.02\n",
      "69_Dropout                         -       [1, 4, 60, 60]                    -                    -\n",
      "70_Linear                 [128, 128]         [1, 60, 128]                16.51                 0.02\n",
      "71_Dropout                         -         [1, 60, 128]                    -                    -\n",
      "72_LayerNorm                   [128]         [1, 60, 128]          (recursive)                 0.00\n",
      "73_Linear                [128, 2048]        [1, 60, 2048]               264.19                 0.26\n",
      "74_Linear                [2048, 128]         [1, 60, 128]               262.27                 0.26\n",
      "75_Dropout                         -         [1, 60, 128]                    -                    -\n",
      "76_Dropout                         -         [1, 60, 128]                    -                    -\n",
      "77_LayerNorm                   [128]         [1, 60, 128]                 0.26                 0.00\n",
      "====================================================================================================\n",
      "# Params:    2,646.02K\n",
      "# Mult-Adds: 2.64M\n",
      "----------------------------------------------------------------------------------------------------\n"
     ]
    }
   ],
   "source": [
    "enc_output = torch.randn((1, MAX_SEQ_LEN, DIM_MODEL))\n",
    "summary(dec, trg, memory=enc_output, src_mask=src_mask, trg_mask=trg_mask)"
   ]
  },
  {
   "cell_type": "code",
   "execution_count": 13,
   "id": "56937e8e-f393-44ca-8ada-d34191cca443",
   "metadata": {},
   "outputs": [
    {
     "data": {
      "text/plain": [
       "(torch.Size([1, 60, 128]), torch.Size([1, 4, 60, 60]))"
      ]
     },
     "execution_count": 13,
     "metadata": {},
     "output_type": "execute_result"
    }
   ],
   "source": [
    "dec_output, attn = dec(trg, enc_output, src_mask, trg_mask)\n",
    "dec_output.shape, attn.shape"
   ]
  }
 ],
 "metadata": {
  "kernelspec": {
   "display_name": "Python 3 (ipykernel)",
   "language": "python",
   "name": "python3"
  },
  "language_info": {
   "codemirror_mode": {
    "name": "ipython",
    "version": 3
   },
   "file_extension": ".py",
   "mimetype": "text/x-python",
   "name": "python",
   "nbconvert_exporter": "python",
   "pygments_lexer": "ipython3",
   "version": "3.9.17"
  }
 },
 "nbformat": 4,
 "nbformat_minor": 5
}
