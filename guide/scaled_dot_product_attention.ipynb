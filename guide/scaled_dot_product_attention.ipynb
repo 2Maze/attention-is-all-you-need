{
 "cells": [
  {
   "cell_type": "code",
   "execution_count": 8,
   "id": "06f166b7-a708-47e3-87c4-c5788ac6695a",
   "metadata": {},
   "outputs": [],
   "source": [
    "import torch\n",
    "import numpy as np\n",
    "\n",
    "from model.attention import ScaledDotProductAttention"
   ]
  },
  {
   "cell_type": "code",
   "execution_count": 10,
   "id": "fed9cbcf-9674-4a32-9673-652aaa849d72",
   "metadata": {},
   "outputs": [],
   "source": [
    "MAX_SEQ_LEN = 60\n",
    "DIM_HEAD = 64\n",
    "\n",
    "attention = ScaledDotProductAttention(scale=np.sqrt(DIM_HEAD), dropout=0.)"
   ]
  },
  {
   "cell_type": "code",
   "execution_count": 15,
   "id": "ae0f8bac-724e-4db2-b6ec-3724d2eea9ab",
   "metadata": {},
   "outputs": [],
   "source": [
    "x = torch.randn((1, 1, MAX_SEQ_LEN, DIM_HEAD))\n",
    "\n",
    "output, attn_mask = attention(x, x, x, mask=None)"
   ]
  },
  {
   "cell_type": "code",
   "execution_count": 17,
   "id": "ccb50ba1-8e97-4ede-8043-34cb1512ef10",
   "metadata": {},
   "outputs": [
    {
     "data": {
      "text/plain": [
       "torch.Size([1, 1, 60, 60])"
      ]
     },
     "execution_count": 17,
     "metadata": {},
     "output_type": "execute_result"
    }
   ],
   "source": [
    "attn_mask.shape"
   ]
  },
  {
   "cell_type": "code",
   "execution_count": null,
   "id": "27345cb8-1350-4f88-b194-fed392e75ea7",
   "metadata": {},
   "outputs": [],
   "source": []
  }
 ],
 "metadata": {
  "kernelspec": {
   "display_name": "Python 3 (ipykernel)",
   "language": "python",
   "name": "python3"
  },
  "language_info": {
   "codemirror_mode": {
    "name": "ipython",
    "version": 3
   },
   "file_extension": ".py",
   "mimetype": "text/x-python",
   "name": "python",
   "nbconvert_exporter": "python",
   "pygments_lexer": "ipython3",
   "version": "3.9.17"
  }
 },
 "nbformat": 4,
 "nbformat_minor": 5
}
