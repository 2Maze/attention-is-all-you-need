{
 "cells": [
  {
   "cell_type": "markdown",
   "id": "9bb6f57b-bd05-4301-a29b-4b6b562b22d0",
   "metadata": {},
   "source": [
    "![classifier](images/classifier.png)"
   ]
  },
  {
   "cell_type": "code",
   "execution_count": 1,
   "id": "6d2cdb05-55ec-46fb-bf23-22eeb9e6f416",
   "metadata": {},
   "outputs": [],
   "source": [
    "from model.modules import ClassifyHead\n",
    "from torchsummaryX import summary\n",
    "\n",
    "TRG_VOCAB_SIZE = 100\n",
    "DIM_MODEL = 128\n",
    "MAX_SEQ_LEN = 60\n",
    "\n",
    "classifier = ClassifyHead(dim_model=DIM_MODEL,\n",
    "                          trg_vocab_size=TRG_VOCAB_SIZE)"
   ]
  },
  {
   "cell_type": "code",
   "execution_count": 2,
   "id": "30afed70-83c7-4fee-a9c9-34226c4dc39c",
   "metadata": {},
   "outputs": [
    {
     "name": "stdout",
     "output_type": "stream",
     "text": [
      "----------------------------------------------------------------------------------------------------\n",
      "Layer                   Kernel Shape         Output Shape         # Params (K)      # Mult-Adds (M)\n",
      "====================================================================================================\n",
      "0_Linear                  [128, 100]        [32, 60, 100]                12.90                 0.01\n",
      "====================================================================================================\n",
      "# Params:    12.90K\n",
      "# Mult-Adds: 0.01M\n",
      "----------------------------------------------------------------------------------------------------\n"
     ]
    }
   ],
   "source": [
    "import torch\n",
    "\n",
    "classifier_input = torch.randn((32, MAX_SEQ_LEN, DIM_MODEL))\n",
    "\n",
    "summary(classifier, classifier_input)"
   ]
  },
  {
   "cell_type": "code",
   "execution_count": 3,
   "id": "0530c6ce-99b3-4024-9ffa-71b98e84fa03",
   "metadata": {},
   "outputs": [
    {
     "data": {
      "text/plain": [
       "torch.Size([32, 60, 100])"
      ]
     },
     "execution_count": 3,
     "metadata": {},
     "output_type": "execute_result"
    }
   ],
   "source": [
    "classifier(classifier_input).shape"
   ]
  },
  {
   "cell_type": "code",
   "execution_count": null,
   "id": "14c8a5dd-e6bf-4b3c-abd1-ffc86a4c8927",
   "metadata": {},
   "outputs": [],
   "source": []
  }
 ],
 "metadata": {
  "kernelspec": {
   "display_name": "Python 3 (ipykernel)",
   "language": "python",
   "name": "python3"
  },
  "language_info": {
   "codemirror_mode": {
    "name": "ipython",
    "version": 3
   },
   "file_extension": ".py",
   "mimetype": "text/x-python",
   "name": "python",
   "nbconvert_exporter": "python",
   "pygments_lexer": "ipython3",
   "version": "3.9.17"
  }
 },
 "nbformat": 4,
 "nbformat_minor": 5
}
