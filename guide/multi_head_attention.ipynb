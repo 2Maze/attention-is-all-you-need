{
 "cells": [
  {
   "cell_type": "code",
   "execution_count": 1,
   "id": "2742f7f7-b36c-4fce-add2-19852455a1c5",
   "metadata": {},
   "outputs": [],
   "source": [
    "import torch\n",
    "\n",
    "from model.attention import MultiHeadAttention"
   ]
  },
  {
   "cell_type": "code",
   "execution_count": 2,
   "id": "76032d99-696c-4a48-939d-cdff277c3d25",
   "metadata": {},
   "outputs": [],
   "source": [
    "mha = MultiHeadAttention(dim_model=64,\n",
    "                         num_heads=2)"
   ]
  },
  {
   "cell_type": "code",
   "execution_count": 4,
   "id": "3d266b99-208d-4341-b611-90a820ade047",
   "metadata": {},
   "outputs": [],
   "source": [
    "x = torch.randn((1, 60, 64))\n",
    "output, attn = mha(x, x, x, mask=None)"
   ]
  },
  {
   "cell_type": "code",
   "execution_count": 6,
   "id": "da396325-91ae-4f1e-b646-bc7666a00748",
   "metadata": {},
   "outputs": [
    {
     "data": {
      "text/plain": [
       "torch.Size([1, 60, 64])"
      ]
     },
     "execution_count": 6,
     "metadata": {},
     "output_type": "execute_result"
    }
   ],
   "source": [
    "output.shape"
   ]
  },
  {
   "cell_type": "code",
   "execution_count": 7,
   "id": "23535b04-5304-4749-966e-9fc7e0cd0c34",
   "metadata": {},
   "outputs": [
    {
     "data": {
      "text/plain": [
       "torch.Size([1, 2, 60, 60])"
      ]
     },
     "execution_count": 7,
     "metadata": {},
     "output_type": "execute_result"
    }
   ],
   "source": [
    "attn.shape"
   ]
  },
  {
   "cell_type": "code",
   "execution_count": null,
   "id": "49b2ba9c-0e0e-44f4-8097-2d512ab4a3f3",
   "metadata": {},
   "outputs": [],
   "source": []
  }
 ],
 "metadata": {
  "kernelspec": {
   "display_name": "Python 3 (ipykernel)",
   "language": "python",
   "name": "python3"
  },
  "language_info": {
   "codemirror_mode": {
    "name": "ipython",
    "version": 3
   },
   "file_extension": ".py",
   "mimetype": "text/x-python",
   "name": "python",
   "nbconvert_exporter": "python",
   "pygments_lexer": "ipython3",
   "version": "3.9.17"
  }
 },
 "nbformat": 4,
 "nbformat_minor": 5
}
